{
 "metadata": {
  "name": "",
  "signature": "sha256:36a73c5d5c2d63913e09944c9b8ade49bb13e8e64ce2262bf9033bee6304970d"
 },
 "nbformat": 3,
 "nbformat_minor": 0,
 "worksheets": [
  {
   "cells": [
    {
     "cell_type": "code",
     "collapsed": false,
     "input": [
      "import seaborn as sns\n",
      "import matplotlib.pyplot as plt\n",
      "import scipy.stats\n",
      "import numpy as np\n",
      "%matplotlib inline\n",
      "sns.set(style=\"white\")\n",
      "np.random.seed(12345)"
     ],
     "language": "python",
     "metadata": {},
     "outputs": [],
     "prompt_number": 21
    },
    {
     "cell_type": "code",
     "collapsed": false,
     "input": [
      "r_ua = 100\n",
      "beta_s_full = np.random.rand(20,50)\n",
      "x_u_T = np.random.rand(50,1)"
     ],
     "language": "python",
     "metadata": {},
     "outputs": [],
     "prompt_number": 30
    },
    {
     "cell_type": "code",
     "collapsed": false,
     "input": [
      "def plot_play_counts(b_ua):\n",
      "    lst = [np.exp(b_ua * np.dot(row,x_u_T)) for row in beta_s_full]\n",
      "    lst_norm = lst / sum(lst)\n",
      "    lst_norm = [el[0] for el in lst_norm]\n",
      "    \n",
      "    draws = np.random.multinomial(r_ua, lst_norm, size=1)\n",
      "    print scipy.stats.entropy(lst_norm)\n",
      "    #print lst_norm\n",
      "\n",
      "    x = np.arange(0,draws.shape[1])\n",
      "\n",
      "    y = draws[0]\n",
      "    flatui = [\"#9b59b6\", \"#3498db\", \"#95a5a6\", \"#e74c3c\", \"#34495e\", \"#2ecc71\"]\n",
      "    color = sns.color_palette(flatui)[4]\n",
      "    grid = sns.JointGrid(x,y, space=0, size=4, ratio=5)\n",
      "    grid.plot_joint(plt.bar, color=color, alpha=.8)\n",
      "    sns.axlabel('track id','play count (bias_ua = ' + str(b_ua) + ')')\n",
      "\n",
      "#plt.hist(y)\n",
      "#plt.xlabel('number of plays')\n",
      "#plt.ylabel('number of songs')\n",
      "\n",
      "plot_play_counts(b_ua=0.001)\n",
      "plot_play_counts(b_ua=3)"
     ],
     "language": "python",
     "metadata": {},
     "outputs": [
      {
       "output_type": "stream",
       "stream": "stdout",
       "text": [
        "2.99573183812\n",
        "1.36946488991"
       ]
      },
      {
       "output_type": "stream",
       "stream": "stdout",
       "text": [
        "\n"
       ]
      },
      {
       "metadata": {},
       "output_type": "display_data",
       "png": "[encoded data removed]",
       "text": [
        "<matplotlib.figure.Figure at 0x116c18390>"
       ]
      },
      {
       "metadata": {},
       "output_type": "display_data",
       "png": "[encoded data removed]",
       "text": [
        "<matplotlib.figure.Figure at 0x115dd0c10>"
       ]
      }
     ],
     "prompt_number": 32
    },
    {
     "cell_type": "code",
     "collapsed": false,
     "input": [],
     "language": "python",
     "metadata": {},
     "outputs": [],
     "prompt_number": 11
    },
    {
     "cell_type": "code",
     "collapsed": false,
     "input": [],
     "language": "python",
     "metadata": {},
     "outputs": []
    }
   ],
   "metadata": {}
  }
 ]
}